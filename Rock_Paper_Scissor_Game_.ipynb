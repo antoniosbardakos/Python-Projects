{
  "nbformat": 4,
  "nbformat_minor": 0,
  "metadata": {
    "colab": {
      "provenance": []
    },
    "kernelspec": {
      "name": "python3",
      "display_name": "Python 3"
    },
    "language_info": {
      "name": "python"
    }
  },
  "cells": [
    {
      "cell_type": "markdown",
      "source": [
        "# Das ist ein Spiel"
      ],
      "metadata": {
        "id": "9cMWhq1w8GOa"
      }
    },
    {
      "cell_type": "code",
      "execution_count": 6,
      "metadata": {
        "colab": {
          "base_uri": "https://localhost:8080/"
        },
        "id": "3xqI128_4gwv",
        "outputId": "e38d1735-bea9-4b3d-d708-b4b5384f1ffb"
      },
      "outputs": [
        {
          "output_type": "stream",
          "name": "stdout",
          "text": [
            "Please insert your choice: Rock\n",
            "Paper\n",
            "You have lost\n"
          ]
        }
      ],
      "source": [
        "import random\n",
        "## Die Liste von Gegenstände\n",
        "options = [\"Rock\",\"Paper\",\"Scissors\"]\n",
        "##Der Spieler schreibt einen Gegegstand\n",
        "user_input = input (\"Please insert your choice: \")\n",
        "## Computer wählt automatisch eine\n",
        "computer_choice = random.choice(options)\n",
        "print (computer_choice)\n",
        "\n",
        "##Wie das Spielt lauft\n",
        "if user_input == \"Rock\" and computer_choice == \"Scissors\":\n",
        "  print (\"Congrats,you  win\")\n",
        "elif user_input == \"Paper\" and computer_choice == \"Rock\":\n",
        "  print (\"Congrats,you  win\")\n",
        "elif user_input == \"Scissors\" and computer_choice == \"Paper\":\n",
        "  print  (\"Congrats,you  win \")\n",
        "\n",
        "else:\n",
        "  print (\"You have lost\")\n"
      ]
    }
  ]
}